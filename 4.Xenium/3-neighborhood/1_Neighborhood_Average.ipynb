{
 "cells": [
  {
   "cell_type": "markdown",
   "id": "10bd8cf0-6dec-4b55-af4c-906bda44c873",
   "metadata": {},
   "source": [
    "Group and sum by metaprogram problem solved with: https://stackoverflow.com/questions/39650749/group-by-sparse-matrix-in-scipy-and-return-a-matrix"
   ]
  },
  {
   "cell_type": "markdown",
   "id": "218c8ba1-ac5a-4c9d-861c-b29fc87813e1",
   "metadata": {},
   "source": [
    "#### Load modules"
   ]
  },
  {
   "cell_type": "code",
   "execution_count": 1,
   "id": "16bbf62c-43e3-4d75-91c3-70e6f8b400fe",
   "metadata": {},
   "outputs": [],
   "source": [
    "import numpy as np\n",
    "import pandas as pd\n",
    "import numpy as np\n",
    "import matplotlib.pyplot as plt\n",
    "import seaborn as sns\n",
    "import scipy\n",
    "import os\n",
    "\n",
    "import scanpy as sc\n",
    "import squidpy as sq\n",
    "\n",
    "import scipy\n",
    "\n",
    "from sklearn.preprocessing import LabelBinarizer\n",
    "\n",
    "import warnings\n",
    "warnings.filterwarnings(\"ignore\")"
   ]
  },
  {
   "cell_type": "code",
   "execution_count": 2,
   "id": "0b1d5f32-0a5f-4149-ad2d-b678070167f5",
   "metadata": {},
   "outputs": [],
   "source": [
    "base_directory = '/n/scratch/users/s/sad167/EPN/Xenium/'\n",
    "directory = base_directory + 'analysis/all_Xenium_runs/neighborhood/'\n",
    "if not os.path.exists(directory):\n",
    "    os.makedirs(directory)"
   ]
  },
  {
   "cell_type": "code",
   "execution_count": 3,
   "id": "b735b2ab-022c-4ee6-9de4-dbc6a6fd49ce",
   "metadata": {},
   "outputs": [
    {
     "name": "stdout",
     "output_type": "stream",
     "text": [
      "STEPN-17_0010652-Region_4\n",
      "STEPN-12_0010575-Region_1\n",
      "STEPN-12_0010575-Region_2\n",
      "STEPN-12_0010575-Region_3\n",
      "STEPN-06_0010619-Region_1\n",
      "STEPN-06_0010619-Region_2\n",
      "STEPN-06_0010619-Region_3\n",
      "STEPN-10_0010619-Region_4\n",
      "STEPN-10_0010619-Region_5\n",
      "STEPN-19_0010501-Region_1\n",
      "STEPN-19_0010501-Region_2\n",
      "STEPN-14_0010814-Region_1\n",
      "STEPN-14_0010814-Region_2\n",
      "STEPN-18_0010498-Region_1\n",
      "STEPN-16_0010775-Region_1\n",
      "STEPN-01_0010540-Region_1\n",
      "STEPN-01_0010540-Region_2\n",
      "STEPN-01_0010540-Region_3\n",
      "STEPN-12_0010540-Region_4\n",
      "STEPN-06_0010553-Region_1\n",
      "STEPN-06_0010553-Region_2\n",
      "STEPN-15_0010553-Region_3\n",
      "STEPN-10_0010553-Region_4\n"
     ]
    }
   ],
   "source": [
    "# import metadata\n",
    "metadata = pd.read_excel(base_directory+'SampleIdentifier.xlsx')\n",
    "\n",
    "# extract sample name and path to raw data\n",
    "SampleName = (metadata['SampleID'] + '_' + metadata['SampleName']).tolist()\n",
    "\n",
    "RawDataPath = metadata['RawDataPath'].tolist()\n",
    "\n",
    "# color palette\n",
    "metaprogram_names = [\"Cycling\", \"Neuroepithelial-like\", \"Radial glia-like\", \n",
    "                                       \"Neuronal-like\" ,\"Ependymal-like\", \"Mesenchymal\", \"Unassigned\", \n",
    "                                       \"Immune\", \"Vascular\", \"Oligodendrocytes\"]\n",
    "\n",
    "metaprogram_colors = [\"#4d4d4d\",\"#F99E93FF\",\"#9E5E9BFF\",\n",
    "                                '#0F4F8B',\"#ACD39EFF\",\"#96410EFF\",'#cccccc', \n",
    "                                '#00c5cd',  '#cd3278',  '#cd3278', '#000000FF']\n",
    "\n",
    "metaprogram_to_color = dict(zip(metaprogram_names, metaprogram_colors))\n",
    "\n",
    "anndata_list = []\n",
    "for i in range(len(SampleName)):\n",
    "    adata = sc.read_10x_h5(filename = base_directory + 'data/raw_data/' + RawDataPath[i]+'/cell_feature_matrix.h5')\n",
    "    df = pd.read_csv(base_directory + 'data/raw_data/' + RawDataPath[i]+'/cells.csv.gz')\n",
    "\n",
    "    df.set_index(adata.obs_names, inplace=True)\n",
    "    adata.obs = df.copy()\n",
    "\n",
    "    adata.obsm[\"spatial\"] = np.array([adata.obs.x_centroid*0.325, adata.obs.y_centroid*0.325]).transpose().astype('float64')\n",
    "    \n",
    "    # read metadata with annotations\n",
    "    anno = pd.read_csv(base_directory + 'analysis/all_Xenium_runs/data/cell_ID_' + SampleName[i] + '.csv', index_col = 0)\n",
    "\n",
    "    # Replace values in the \"group\" column\n",
    "    anno['group'].replace({'Endothelial': 'Vascular', 'VLMCs': 'Vascular',  'Myeloid': 'Immune',  'T-cell': 'Immune',  'Microglia': 'Immune'}, inplace=True)\n",
    "\n",
    "    if 'X' in anno.columns:\n",
    "        anno.index = anno['X']\n",
    "    \n",
    "    adata = adata[anno.index,:]\n",
    "    \n",
    "    adata.obs['Metaprogram'] = anno['group']\n",
    "    adata.obs['Metaprogram'] = adata.obs['Metaprogram'].astype('category')\n",
    "    adata.obs['sample'] = SampleName[i]\n",
    "\n",
    "    # Add the color information to the AnnData object\n",
    "    adata.uns['Metaprogram_colors'] = metaprogram_to_color\n",
    "    \n",
    "    anndata_list.append(adata)\n",
    "    \n",
    "    print(SampleName[i])\n",
    "\n",
    "adata = sc.concat(anndata_list) \n"
   ]
  },
  {
   "cell_type": "code",
   "execution_count": 4,
   "id": "8a380730-e7cb-461e-935e-cb1b8634738d",
   "metadata": {},
   "outputs": [],
   "source": [
    "# Subset to remove \"Unassigned\" program and oligodendrocytes (too little cell number)\n",
    "adata = adata[~adata.obs['Metaprogram'].isin(['Unassigned', 'Oligodendrocytes'])]\n",
    "\n",
    "# Create a color palette for each unique Metaprogram\n",
    "metaprogram_names = [\"Cycling\", \"Neuroepithelial-like\", \"Radial glia-like\", \n",
    "                                       \"Neuronal-like\" ,\"Ependymal-like\", \"Mesenchymal\",\n",
    "                                       \"Immune\", \"Vascular\"]\n",
    "\n",
    "metaprogram_colors = [\"#4d4d4d\",\"#F99E93FF\",\"#9E5E9BFF\",\n",
    "                                '#0F4F8B',\"#ACD39EFF\",\"#96410EFF\",\n",
    "                                '#00c5cd',  '#cd3278',  '#cd3278']\n",
    "\n",
    "\n",
    "metaprogram_to_color = dict(zip(metaprogram_names, metaprogram_colors))\n",
    "\n",
    "ad = adata"
   ]
  },
  {
   "cell_type": "code",
   "execution_count": 5,
   "id": "f62fa485-8040-45f8-9be1-cbada8f1dc61",
   "metadata": {},
   "outputs": [
    {
     "name": "stdout",
     "output_type": "stream",
     "text": [
      "STEPN-17_0010652-Region_4\n",
      "STEPN-12_0010575-Region_1\n",
      "STEPN-12_0010575-Region_2\n",
      "STEPN-12_0010575-Region_3\n",
      "STEPN-06_0010619-Region_1\n",
      "STEPN-06_0010619-Region_2\n",
      "STEPN-06_0010619-Region_3\n",
      "STEPN-10_0010619-Region_4\n",
      "STEPN-10_0010619-Region_5\n",
      "STEPN-19_0010501-Region_1\n",
      "STEPN-19_0010501-Region_2\n",
      "STEPN-14_0010814-Region_1\n",
      "STEPN-14_0010814-Region_2\n",
      "STEPN-18_0010498-Region_1\n",
      "STEPN-16_0010775-Region_1\n",
      "STEPN-01_0010540-Region_1\n",
      "STEPN-01_0010540-Region_2\n",
      "STEPN-01_0010540-Region_3\n",
      "STEPN-12_0010540-Region_4\n",
      "STEPN-06_0010553-Region_1\n",
      "STEPN-06_0010553-Region_2\n",
      "STEPN-15_0010553-Region_3\n",
      "STEPN-10_0010553-Region_4\n"
     ]
    }
   ],
   "source": [
    "anndata_list = []\n",
    "for sample in ad.obs['sample'].unique():\n",
    "    adata_copy_int = ad[ad.obs['sample'] == sample ]\n",
    "    adata_copy_int.obs.index = list(pd.DataFrame(list((adata_copy_int.obs['sample'])))[0] +'_' +pd.DataFrame(list((adata_copy_int.obs.index)))[0])\n",
    "    sq.gr.spatial_neighbors(adata_copy_int, coord_type = 'generic', radius = 70.0)\n",
    "    \n",
    "    if len(adata_copy_int.obs.groupby('Metaprogram').size()) == 2:\n",
    "        datf = pd.DataFrame(data = scipy.sparse.csr_matrix.todense((adata_copy_int.obsp['spatial_distances']>0)*1))\n",
    "        datf['key'] = list(adata_copy_int.obs['Metaprogram'])\n",
    "        neighmatrix = datf.groupby('key').sum().transpose()\n",
    "    else:\n",
    "        lb = LabelBinarizer(sparse_output=True)\n",
    "        grouped = lb.fit_transform(adata_copy_int.obs['Metaprogram'].to_numpy()).T.dot((adata_copy_int.obsp['spatial_distances']>0)*1)\n",
    "        neighmatrix = pd.DataFrame(data = scipy.sparse.csr_matrix.todense(grouped)).transpose()\n",
    "        neighmatrix.set_axis(sorted(adata_copy_int.obs['Metaprogram'].unique()), axis = \"columns\", copy = False)\n",
    "    \n",
    "    adataneigh = sc.AnnData(neighmatrix)\n",
    "    adataneigh.obs = adata_copy_int.obs\n",
    "    adataneigh.obs['counts'] = list(np.sum(neighmatrix,axis=1))\n",
    "    anndata_list.append(adataneigh)\n",
    "    print(sample)"
   ]
  },
  {
   "cell_type": "markdown",
   "id": "d3411c5b-6d56-4cdd-ae45-77f5617b531b",
   "metadata": {},
   "source": [
    "#### Compute centrality scores per sample"
   ]
  },
  {
   "cell_type": "code",
   "execution_count": 7,
   "id": "6f71c1c1-99a4-46bc-a8ba-9a35b41bb220",
   "metadata": {},
   "outputs": [
    {
     "name": "stdout",
     "output_type": "stream",
     "text": [
      "STEPN-17_0010652-Region_4\n",
      "STEPN-12_0010575-Region_1\n",
      "STEPN-12_0010575-Region_2\n",
      "STEPN-12_0010575-Region_3\n",
      "STEPN-06_0010619-Region_1\n",
      "STEPN-06_0010619-Region_2\n",
      "STEPN-06_0010619-Region_3\n",
      "STEPN-10_0010619-Region_4\n",
      "STEPN-10_0010619-Region_5\n",
      "STEPN-19_0010501-Region_1\n",
      "STEPN-19_0010501-Region_2\n",
      "STEPN-14_0010814-Region_1\n",
      "STEPN-14_0010814-Region_2\n",
      "STEPN-18_0010498-Region_1\n",
      "STEPN-16_0010775-Region_1\n",
      "STEPN-01_0010540-Region_1\n",
      "STEPN-01_0010540-Region_2\n",
      "STEPN-01_0010540-Region_3\n",
      "STEPN-12_0010540-Region_4\n",
      "STEPN-06_0010553-Region_1\n",
      "STEPN-06_0010553-Region_2\n",
      "STEPN-15_0010553-Region_3\n",
      "STEPN-10_0010553-Region_4\n"
     ]
    }
   ],
   "source": [
    "centralityScore_list = []\n",
    "for i in range(len(anndata_list)):\n",
    "    anndata_list[i].obsm[\"spatial\"] = np.array([anndata_list[i].obs.x_centroid*0.325, anndata_list[i].obs.y_centroid*0.325]).transpose().astype('float64')\n",
    "    anndata_list[i].X = np.nan_to_num(anndata_list[i].X)\n",
    "    anndata_list[i] = anndata_list[i][anndata_list[i].obs['counts'] > 6]\n",
    "    anndata_list[i].raw = anndata_list[i]\n",
    "    \n",
    "    sq.gr.spatial_neighbors(anndata_list[i], coord_type = \"generic\", delaunay = True)\n",
    "    sq.gr.centrality_scores(anndata_list[i], cluster_key = \"Metaprogram\")\n",
    "\n",
    "    dt = anndata_list[i].uns['Metaprogram_centrality_scores']\n",
    "    dt['Metaprogram'] = dt.index\n",
    "    dt['Sample'] = SampleName[i]\n",
    "    \n",
    "    centralityScore_list.append(dt)\n",
    "    print(SampleName[i])"
   ]
  },
  {
   "cell_type": "code",
   "execution_count": 8,
   "id": "f969c2b7-c097-442a-9c3f-cdb58360a173",
   "metadata": {},
   "outputs": [
    {
     "data": {
      "image/png": "[encoded data removed]",
      "text/plain": [
       "<Figure size 500x500 with 1 Axes>"
      ]
     },
     "metadata": {},
     "output_type": "display_data"
    }
   ],
   "source": [
    "## Concatenate scores\n",
    "dt = pd.concat(centralityScore_list)\n",
    "## Calculated average and SEM\n",
    "dt = dt.groupby(['Metaprogram'], as_index=False).agg({\n",
    "    'degree_centrality': ['mean', 'sem'],\n",
    "    'average_clustering': ['mean', 'sem'],\n",
    "    'closeness_centrality': ['mean', 'sem']\n",
    "})\n",
    "\n",
    "dt.columns = ['Metaprogram', \n",
    "              'degree_centrality_mean', 'degree_centrality_sem', \n",
    "              'average_clustering_mean', 'average_clustering_sem', \n",
    "              'closeness_centrality_mean', 'closeness_centrality_sem']\n",
    "\n",
    "## Scatter plot with error bars\n",
    "plt.figure(figsize=(5, 5))\n",
    "pt = sns.scatterplot(data=dt, x=\"average_clustering_mean\", y=\"degree_centrality_mean\", hue=\"Metaprogram\", \n",
    "                     palette=metaprogram_to_color, legend = True, s = 100)\n",
    "for i, row in dt.iterrows():\n",
    "    plt.errorbar(x=row['average_clustering_mean'], y=row['degree_centrality_mean'], \n",
    "                  xerr=row['average_clustering_sem'], yerr=row['degree_centrality_sem'], \n",
    "                 fmt='o', capsize=5, color=metaprogram_to_color[row['Metaprogram']])\n",
    "\n",
    "\n",
    "pt.set(xlabel = 'Clustering coefficient', ylabel = 'Degree of centrality')\n",
    "pt.legend(fontsize = 6)\n",
    "plt.savefig(directory+f\"/1_centrality_scores_averages.pdf\")\n",
    "plt.show()"
   ]
  },
  {
   "cell_type": "code",
   "execution_count": 11,
   "id": "3b48cadf-3d1e-46c3-b9da-55a481cfb7ef",
   "metadata": {},
   "outputs": [
    {
     "data": {
      "application/vnd.jupyter.widget-view+json": {
       "model_id": "0f4a9b8b63a54af48541353ce2f72869",
       "version_major": 2,
       "version_minor": 0
      },
      "text/plain": [
       "  0%|          | 0/1000 [00:00<?, ?/s]"
      ]
     },
     "metadata": {},
     "output_type": "display_data"
    },
    {
     "data": {
      "application/vnd.jupyter.widget-view+json": {
       "model_id": "4984cea602494a4f81ba66beedba84cd",
       "version_major": 2,
       "version_minor": 0
      },
      "text/plain": [
       "  0%|          | 0/1000 [00:00<?, ?/s]"
      ]
     },
     "metadata": {},
     "output_type": "display_data"
    },
    {
     "data": {
      "application/vnd.jupyter.widget-view+json": {
       "model_id": "1fef45a7b948450cacc527ee14d45bcd",
       "version_major": 2,
       "version_minor": 0
      },
      "text/plain": [
       "  0%|          | 0/1000 [00:00<?, ?/s]"
      ]
     },
     "metadata": {},
     "output_type": "display_data"
    },
    {
     "data": {
      "application/vnd.jupyter.widget-view+json": {
       "model_id": "49d4c1f664eb41aaa4f06f1535e7bf35",
       "version_major": 2,
       "version_minor": 0
      },
      "text/plain": [
       "  0%|          | 0/1000 [00:00<?, ?/s]"
      ]
     },
     "metadata": {},
     "output_type": "display_data"
    },
    {
     "data": {
      "application/vnd.jupyter.widget-view+json": {
       "model_id": "4bdf2a4b438d46bbb70bad683ddc7470",
       "version_major": 2,
       "version_minor": 0
      },
      "text/plain": [
       "  0%|          | 0/1000 [00:00<?, ?/s]"
      ]
     },
     "metadata": {},
     "output_type": "display_data"
    },
    {
     "data": {
      "application/vnd.jupyter.widget-view+json": {
       "model_id": "7f39a35521af42a892c9b272525bcd6a",
       "version_major": 2,
       "version_minor": 0
      },
      "text/plain": [
       "  0%|          | 0/1000 [00:00<?, ?/s]"
      ]
     },
     "metadata": {},
     "output_type": "display_data"
    },
    {
     "data": {
      "application/vnd.jupyter.widget-view+json": {
       "model_id": "5035a730c5254b6bb59da19490d5278c",
       "version_major": 2,
       "version_minor": 0
      },
      "text/plain": [
       "  0%|          | 0/1000 [00:00<?, ?/s]"
      ]
     },
     "metadata": {},
     "output_type": "display_data"
    },
    {
     "data": {
      "application/vnd.jupyter.widget-view+json": {
       "model_id": "fd4920cd3239495cb3278c5e707ee4f7",
       "version_major": 2,
       "version_minor": 0
      },
      "text/plain": [
       "  0%|          | 0/1000 [00:00<?, ?/s]"
      ]
     },
     "metadata": {},
     "output_type": "display_data"
    },
    {
     "data": {
      "application/vnd.jupyter.widget-view+json": {
       "model_id": "4cd125a169f842f8bd521b66b1415a9f",
       "version_major": 2,
       "version_minor": 0
      },
      "text/plain": [
       "  0%|          | 0/1000 [00:00<?, ?/s]"
      ]
     },
     "metadata": {},
     "output_type": "display_data"
    },
    {
     "data": {
      "application/vnd.jupyter.widget-view+json": {
       "model_id": "edd0683afc334e79b4e047c6c21e39af",
       "version_major": 2,
       "version_minor": 0
      },
      "text/plain": [
       "  0%|          | 0/1000 [00:00<?, ?/s]"
      ]
     },
     "metadata": {},
     "output_type": "display_data"
    },
    {
     "data": {
      "application/vnd.jupyter.widget-view+json": {
       "model_id": "195a611705a04470a881682a5b8c0a3c",
       "version_major": 2,
       "version_minor": 0
      },
      "text/plain": [
       "  0%|          | 0/1000 [00:00<?, ?/s]"
      ]
     },
     "metadata": {},
     "output_type": "display_data"
    },
    {
     "data": {
      "application/vnd.jupyter.widget-view+json": {
       "model_id": "800a7dd11f414ada9325624745f8a4b7",
       "version_major": 2,
       "version_minor": 0
      },
      "text/plain": [
       "  0%|          | 0/1000 [00:00<?, ?/s]"
      ]
     },
     "metadata": {},
     "output_type": "display_data"
    },
    {
     "data": {
      "application/vnd.jupyter.widget-view+json": {
       "model_id": "a2cc8d93b72e4c4c8741348d3ab6f8e8",
       "version_major": 2,
       "version_minor": 0
      },
      "text/plain": [
       "  0%|          | 0/1000 [00:00<?, ?/s]"
      ]
     },
     "metadata": {},
     "output_type": "display_data"
    },
    {
     "data": {
      "application/vnd.jupyter.widget-view+json": {
       "model_id": "303186787c274f3bbeeb528541f0d14f",
       "version_major": 2,
       "version_minor": 0
      },
      "text/plain": [
       "  0%|          | 0/1000 [00:00<?, ?/s]"
      ]
     },
     "metadata": {},
     "output_type": "display_data"
    },
    {
     "data": {
      "application/vnd.jupyter.widget-view+json": {
       "model_id": "04c47fe86f0d4254b791202b3b98ca16",
       "version_major": 2,
       "version_minor": 0
      },
      "text/plain": [
       "  0%|          | 0/1000 [00:00<?, ?/s]"
      ]
     },
     "metadata": {},
     "output_type": "display_data"
    },
    {
     "data": {
      "application/vnd.jupyter.widget-view+json": {
       "model_id": "b21b117ef2904db99a00e57d245a106b",
       "version_major": 2,
       "version_minor": 0
      },
      "text/plain": [
       "  0%|          | 0/1000 [00:00<?, ?/s]"
      ]
     },
     "metadata": {},
     "output_type": "display_data"
    },
    {
     "data": {
      "application/vnd.jupyter.widget-view+json": {
       "model_id": "0b4c6680be3a44d4a3ca1a9e824581f3",
       "version_major": 2,
       "version_minor": 0
      },
      "text/plain": [
       "  0%|          | 0/1000 [00:00<?, ?/s]"
      ]
     },
     "metadata": {},
     "output_type": "display_data"
    },
    {
     "data": {
      "application/vnd.jupyter.widget-view+json": {
       "model_id": "94d8dfaffeb84c1eb4c2ff7335bb3926",
       "version_major": 2,
       "version_minor": 0
      },
      "text/plain": [
       "  0%|          | 0/1000 [00:00<?, ?/s]"
      ]
     },
     "metadata": {},
     "output_type": "display_data"
    },
    {
     "data": {
      "application/vnd.jupyter.widget-view+json": {
       "model_id": "0919165f73d04fbc916eb5db4a5cb2e0",
       "version_major": 2,
       "version_minor": 0
      },
      "text/plain": [
       "  0%|          | 0/1000 [00:00<?, ?/s]"
      ]
     },
     "metadata": {},
     "output_type": "display_data"
    },
    {
     "data": {
      "application/vnd.jupyter.widget-view+json": {
       "model_id": "11812b6ecb7c49a2b725d1637401062b",
       "version_major": 2,
       "version_minor": 0
      },
      "text/plain": [
       "  0%|          | 0/1000 [00:00<?, ?/s]"
      ]
     },
     "metadata": {},
     "output_type": "display_data"
    },
    {
     "data": {
      "application/vnd.jupyter.widget-view+json": {
       "model_id": "218eb2be9e784f21805b0c952a8fa2ec",
       "version_major": 2,
       "version_minor": 0
      },
      "text/plain": [
       "  0%|          | 0/1000 [00:00<?, ?/s]"
      ]
     },
     "metadata": {},
     "output_type": "display_data"
    },
    {
     "data": {
      "application/vnd.jupyter.widget-view+json": {
       "model_id": "21db09128953471dbf91260117eb3e01",
       "version_major": 2,
       "version_minor": 0
      },
      "text/plain": [
       "  0%|          | 0/1000 [00:00<?, ?/s]"
      ]
     },
     "metadata": {},
     "output_type": "display_data"
    },
    {
     "data": {
      "application/vnd.jupyter.widget-view+json": {
       "model_id": "390686ab4c66419ca4dad8c290c30709",
       "version_major": 2,
       "version_minor": 0
      },
      "text/plain": [
       "  0%|          | 0/1000 [00:00<?, ?/s]"
      ]
     },
     "metadata": {},
     "output_type": "display_data"
    }
   ],
   "source": [
    "# Calculate neighborhood\n",
    "nhood_list = []\n",
    "for i in range(len(anndata_list)):\n",
    "    sq.gr.nhood_enrichment(anndata_list[i], cluster_key = \"Metaprogram\", seed = 1234)\n",
    "    \n",
    "    df = pd.DataFrame(anndata_list[i].uns['Metaprogram_nhood_enrichment']['zscore'])\n",
    "    df.index = anndata_list[i].uns['Metaprogram_centrality_scores'].index\n",
    "    df.columns = anndata_list[i].uns['Metaprogram_centrality_scores'].index\n",
    "    df['Programs'] = anndata_list[i].uns['Metaprogram_centrality_scores'].index\n",
    "    df = pd.melt(df, id_vars='Programs')\n",
    "    \n",
    "    nhood_list.append(df)\n"
   ]
  },
  {
   "cell_type": "code",
   "execution_count": 12,
   "id": "17d0c9bb-75a5-48ad-a7d6-38db28e2fa8b",
   "metadata": {},
   "outputs": [],
   "source": [
    "## Averaging metrics\n",
    "dt = pd.concat(nhood_list)\n",
    "dt = dt.groupby(['Programs', 'variable'], as_index=False).agg({'value': 'mean'})\n",
    "dt = dt.pivot(index='Programs', columns='variable')['value']\n",
    "dt.to_csv(directory+f'2_neighborhood.csv')"
   ]
  }
 ],
 "metadata": {
  "kernelspec": {
   "display_name": "Python 3 (ipykernel)",
   "language": "python",
   "name": "python3"
  },
  "language_info": {
   "codemirror_mode": {
    "name": "ipython",
    "version": 3
   },
   "file_extension": ".py",
   "mimetype": "text/x-python",
   "name": "python",
   "nbconvert_exporter": "python",
   "pygments_lexer": "ipython3",
   "version": "3.9.14"
  }
 },
 "nbformat": 4,
 "nbformat_minor": 5
}
