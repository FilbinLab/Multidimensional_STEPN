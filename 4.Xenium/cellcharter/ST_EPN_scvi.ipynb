{
 "cells": [
  {
   "cell_type": "code",
   "execution_count": 1,
   "metadata": {},
   "outputs": [
    {
     "name": "stderr",
     "output_type": "stream",
     "text": [
      "/Users/ljiang/anaconda3/envs/scanpy_scvi_env/lib/python3.11/site-packages/tqdm/auto.py:21: TqdmWarning: IProgress not found. Please update jupyter and ipywidgets. See https://ipywidgets.readthedocs.io/en/stable/user_install.html\n",
      "  from .autonotebook import tqdm as notebook_tqdm\n",
      "Global seed set to 12345\n",
      "Global seed set to 12345\n"
     ]
    }
   ],
   "source": [
    "import anndata as ad\n",
    "import pandas as pd\n",
    "import scanpy as sc\n",
    "import scvi\n",
    "import numpy as np\n",
    "from lightning.pytorch import seed_everything\n",
    "\n",
    "seed_everything(12345)\n",
    "scvi.settings.seed = 12345"
   ]
  },
  {
   "cell_type": "code",
   "execution_count": 2,
   "metadata": {},
   "outputs": [],
   "source": [
    "out_dir = \"analysis/adata_obj/\"\n",
    "adata = sc.read_h5ad(out_dir+\"/adata.h5ad\")"
   ]
  },
  {
   "cell_type": "code",
   "execution_count": 3,
   "metadata": {},
   "outputs": [],
   "source": [
    "scvi.model.SCVI.setup_anndata(\n",
    "    adata, \n",
    "    layer=\"counts\", \n",
    "    batch_key='SampleName',\n",
    ")\n",
    "\n",
    "arches_params = dict(\n",
    "    n_latent = 10, \n",
    "    dropout_rate=0.1, \n",
    "    n_layers=2, \n",
    "    gene_likelihood=\"zinb\"\n",
    ")\n",
    "\n",
    "model = scvi.model.SCVI(adata, **arches_params)"
   ]
  },
  {
   "cell_type": "code",
   "execution_count": 4,
   "metadata": {},
   "outputs": [
    {
     "name": "stderr",
     "output_type": "stream",
     "text": [
      "GPU available: False, used: False\n",
      "TPU available: False, using: 0 TPU cores\n",
      "IPU available: False, using: 0 IPUs\n",
      "HPU available: False, using: 0 HPUs\n"
     ]
    },
    {
     "name": "stdout",
     "output_type": "stream",
     "text": [
      "Epoch 100/100: 100%|█| 100/100 [18:25:53<00:00, 737.44s/it, v_num=1, train_loss_"
     ]
    },
    {
     "name": "stderr",
     "output_type": "stream",
     "text": [
      "`Trainer.fit` stopped: `max_epochs=100` reached.\n"
     ]
    },
    {
     "name": "stdout",
     "output_type": "stream",
     "text": [
      "Epoch 100/100: 100%|█| 100/100 [18:25:53<00:00, 663.54s/it, v_num=1, train_loss_\n"
     ]
    }
   ],
   "source": [
    "model.train(\n",
    "    #accelerator=\"cpu\", \n",
    "    #devices=4,\n",
    "    max_epochs=100, \n",
    "    check_val_every_n_epoch=1,\n",
    "    early_stopping=False, \n",
    "    enable_progress_bar=True\n",
    ")"
   ]
  },
  {
   "cell_type": "code",
   "execution_count": null,
   "metadata": {},
   "outputs": [],
   "source": [
    "model"
   ]
  },
  {
   "cell_type": "code",
   "execution_count": null,
   "metadata": {},
   "outputs": [],
   "source": [
    "model.history.keys()"
   ]
  },
  {
   "cell_type": "code",
   "execution_count": 5,
   "metadata": {},
   "outputs": [],
   "source": [
    "pd.DataFrame(model.history['validation_loss']).to_csv(out_dir+\"validation_loss.csv\")\n",
    "pd.DataFrame(model.history['reconstruction_loss_train']).to_csv(out_dir+\"reconstruction_loss_train.csv\")\n",
    "pd.DataFrame(model.history['reconstruction_loss_validation']).to_csv(out_dir+\"reconstruction_loss_validation.csv\")\n",
    "pd.DataFrame(model.history['elbo_validation']).to_csv(out_dir+\"elbo_validation.csv\")\n",
    "pd.DataFrame(model.history['elbo_train']).to_csv(out_dir+\"elbo_train.csv\")"
   ]
  },
  {
   "cell_type": "code",
   "execution_count": 6,
   "metadata": {},
   "outputs": [],
   "source": [
    "adata.obsm['X_scVI'] = model.get_latent_representation(adata).astype(np.float32)"
   ]
  },
  {
   "cell_type": "code",
   "execution_count": 7,
   "metadata": {},
   "outputs": [],
   "source": [
    "model.save(out_dir, overwrite=True)\n",
    "adata.write(out_dir+\"adata.h5ad\", compression=\"gzip\")"
   ]
  },
  {
   "cell_type": "code",
   "execution_count": null,
   "metadata": {},
   "outputs": [],
   "source": []
  }
 ],
 "metadata": {
  "kernelspec": {
   "display_name": "Python 3 (ipykernel)",
   "language": "python",
   "name": "python3"
  },
  "language_info": {
   "codemirror_mode": {
    "name": "ipython",
    "version": 3
   },
   "file_extension": ".py",
   "mimetype": "text/x-python",
   "name": "python",
   "nbconvert_exporter": "python",
   "pygments_lexer": "ipython3",
   "version": "3.11.0"
  },
  "vscode": {
   "interpreter": {
    "hash": "d903529aa2c8b3de457a5a873e70093e07d56c0a047221ab16c995890b77f99f"
   }
  }
 },
 "nbformat": 4,
 "nbformat_minor": 4
}
