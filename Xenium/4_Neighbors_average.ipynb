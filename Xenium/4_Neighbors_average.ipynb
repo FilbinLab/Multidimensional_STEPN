{
 "cells": [
  {
   "cell_type": "markdown",
   "id": "10bd8cf0-6dec-4b55-af4c-906bda44c873",
   "metadata": {},
   "source": [
    "Group and sum by metaprogram problem solved with: https://stackoverflow.com/questions/39650749/group-by-sparse-matrix-in-scipy-and-return-a-matrix"
   ]
  },
  {
   "cell_type": "markdown",
   "id": "218c8ba1-ac5a-4c9d-861c-b29fc87813e1",
   "metadata": {},
   "source": [
    "#### Load modules"
   ]
  },
  {
   "cell_type": "code",
   "execution_count": 1,
   "id": "16bbf62c-43e3-4d75-91c3-70e6f8b400fe",
   "metadata": {},
   "outputs": [],
   "source": [
    "import numpy as np\n",
    "import pandas as pd\n",
    "import numpy as np\n",
    "import matplotlib.pyplot as plt\n",
    "import seaborn as sns\n",
    "import scipy\n",
    "import os\n",
    "\n",
    "import scanpy as sc\n",
    "import squidpy as sq\n",
    "\n",
    "import scipy\n",
    "\n",
    "from sklearn.preprocessing import LabelBinarizer\n",
    "\n",
    "import warnings\n",
    "warnings.filterwarnings(\"ignore\")"
   ]
  },
  {
   "cell_type": "code",
   "execution_count": 35,
   "id": "0b1d5f32-0a5f-4149-ad2d-b678070167f5",
   "metadata": {},
   "outputs": [],
   "source": [
    "directory = '/n/scratch/users/s/sad167/EPN/Xenium/analysis/neighborhood/all_programs'\n",
    "if not os.path.exists(directory):\n",
    "    os.makedirs(directory)"
   ]
  },
  {
   "cell_type": "code",
   "execution_count": 3,
   "id": "b735b2ab-022c-4ee6-9de4-dbc6a6fd49ce",
   "metadata": {},
   "outputs": [
    {
     "name": "stdout",
     "output_type": "stream",
     "text": [
      "BT2126\n",
      "7EP41\n",
      "3EP8\n",
      "7EP1\n",
      "BT775\n",
      "BT1717\n",
      "BT2169\n",
      "BT1804\n",
      "11EP22\n",
      "BT1743\n"
     ]
    }
   ],
   "source": [
    "# sample BT1717 was excluded because it was creating problems during metaprogram annotation, and it has extremely high number of cells that confounds the results\n",
    "samples = ['BT2126', '7EP41', '3EP8', '7EP1', 'BT775', 'BT1717', 'BT2169', 'BT1804', '11EP22',  'BT1743']\n",
    "\n",
    "path = ['/n/scratch/users/s/sad167/EPN/Xenium/data/raw_data/20231020__200939__BT2126_BT1745/output-XETG00083__0010652__Region_4__20231020__201259',\n",
    "        '/n/scratch/users/s/sad167/EPN/Xenium/data/raw_data/20231102__215055__7EP1_7EP41_3EP8/output-XETG00083__0010575__Region_3__20231102__215155',\n",
    "        '/n/scratch/users/s/sad167/EPN/Xenium/data/raw_data/20231102__215055__7EP1_7EP41_3EP8/output-XETG00083__0010619__Region_3__20231102__215155',\n",
    "        '/n/scratch/users/s/sad167/EPN/Xenium/data/raw_data/20231102__215055__7EP1_7EP41_3EP8/output-XETG00083__0010619__Region_5__20231102__215155',\n",
    "        '/n/scratch/users/s/sad167/EPN/Xenium/data/raw_data/20231107__203958__BT1717_BT775/0010501-Region_2',\n",
    "        '/n/scratch/users/s/sad167/EPN/Xenium/data/raw_data/20231107__203958__BT1717_BT775/0010814-Region_2',\n",
    "        '/n/scratch/users/s/sad167/EPN/Xenium/data/raw_data/20231109__203408__BT1804_BT2169/output-XETG00083__0010498__Region_1__20231109__203421',\n",
    "        '/n/scratch/users/s/sad167/EPN/Xenium/data/raw_data/20231109__203408__BT1804_BT2169/output-XETG00083__0010775__Region_1__20231109__203421',\n",
    "        '/n/scratch/users/s/sad167/EPN/Xenium/data/raw_data/20231208__193657__3EP8_BT1743_7EP1_11EP22_7EP41/output-XETG00083__0010540__Region_1__20231208__193752',\n",
    "        '/n/scratch/users/s/sad167/EPN/Xenium/data/raw_data/20231208__193657__3EP8_BT1743_7EP1_11EP22_7EP41/output-XETG00083__0010553__Region_3__20231208__193752']\n",
    "\n",
    "metadata = ['/n/scratch/users/s/sad167/EPN/Xenium/analysis/20231020__200939__BT2126_BT1745/data/individual/cell_ID_0010652-Region_4.csv',\n",
    "            '/n/scratch/users/s/sad167/EPN/Xenium/analysis/20231102__215055__7EP1_7EP41_3EP8/data/individual/cell_ID_0010575-Region_3.csv',\n",
    "            '/n/scratch/users/s/sad167/EPN/Xenium/analysis/20231102__215055__7EP1_7EP41_3EP8/data/individual/cell_ID_0010619-Region_3.csv',\n",
    "            '/n/scratch/users/s/sad167/EPN/Xenium/analysis/20231102__215055__7EP1_7EP41_3EP8/data/individual/cell_ID_0010619-Region_5.csv',\n",
    "            '/n/scratch/users/s/sad167/EPN/Xenium/analysis/20231107__203958__BT1717_BT775/data/individual/cell_ID_0010501-Region_2.csv',\n",
    "            '/n/scratch/users/s/sad167/EPN/Xenium/analysis/20231107__203958__BT1717_BT775/data/individual/cell_ID_0010814-Region_2.csv',\n",
    "            '/n/scratch/users/s/sad167/EPN/Xenium/analysis/20231109__203408__BT1804_BT2169/data/individual/cell_ID_0010498-Region_1.csv',\n",
    "            '/n/scratch/users/s/sad167/EPN/Xenium/analysis/20231109__203408__BT1804_BT2169/data/individual/cell_ID_0010775-Region_1.csv',\n",
    "            '/n/scratch/users/s/sad167/EPN/Xenium/analysis/20231208__193657__3EP8_BT1743_7EP1_11EP22_7EP41/data/individual/cell_ID_0010540-Region_1.csv',            \n",
    "            '/n/scratch/users/s/sad167/EPN/Xenium/analysis/20231208__193657__3EP8_BT1743_7EP1_11EP22_7EP41/data/individual/cell_ID_0010553-Region_3.csv']\n",
    "\n",
    "\n",
    "anndata_list = []\n",
    "for i in range(len(samples)):\n",
    "    adata = sc.read_10x_h5(filename = path[i]+'/cell_feature_matrix.h5')\n",
    "    df = pd.read_csv(path[i]+'/cells.csv.gz')\n",
    "    \n",
    "    df.set_index(adata.obs_names, inplace=True)\n",
    "    adata.obs = df.copy()\n",
    "    \n",
    "    #adata.obsm[\"spatial\"] = adata.obs[[\"x_centroid\", \"y_centroid\"]].copy().to_numpy()\n",
    "    adata.obsm[\"spatial\"] = np.array([adata.obs.x_centroid*0.325, adata.obs.y_centroid*0.325]).transpose().astype('float64')\n",
    "    \n",
    "    anno = pd.read_csv(metadata[i], index_col = 0)\n",
    "    if 'X' in anno.columns:\n",
    "        anno.index = anno['X']\n",
    "    \n",
    "    adata = adata[anno.index,:]\n",
    "    \n",
    "    adata.obs['Metaprogram'] = anno['group']\n",
    "    adata.obs['Metaprogram'] = adata.obs['Metaprogram'].astype('category')\n",
    "    adata.obs['sample'] = samples[i]\n",
    "    \n",
    "    anndata_list.append(adata)\n",
    "    \n",
    "    print(samples[i])\n",
    "\n",
    "adata = sc.concat(anndata_list)"
   ]
  },
  {
   "cell_type": "code",
   "execution_count": 4,
   "id": "8a380730-e7cb-461e-935e-cb1b8634738d",
   "metadata": {},
   "outputs": [],
   "source": [
    "# Subset to remove \"Unassigned\" program and oligodendrocytes (too little cell number)\n",
    "adata = adata[~adata.obs['Metaprogram'].isin(['Unassigned', 'Oligodendrocytes'])]\n",
    "\n",
    "# Create a color palette for each unique Metaprogram\n",
    "metaprogram_names = [\"Cycling\", \"Neuroepithelial-like\", \"Radial glia-like\", \n",
    "                          \"NPC-like\" ,\"Ependymal-like\", \"Mesenchymal\", \"Unassigned\", \n",
    "                          \"T-cell\", \"Myeloid\", \"Microglia\", \"Endothelial\", \"Neurons\", \"VLMCs\", \"Oligodendrocytes\"]\n",
    "\n",
    "metaprogram_colors = [\"gray30\",\"#F99E93FF\",\"#9E5E9BFF\",\"#74ADD1FF\",\"#ACD39EFF\",\"#96410EFF\", 'black',\n",
    "                   '#BDA14DFF', '#3EBCB6FF', '#0169C4FF', '#153460FF', '#D5114EFF' ,'#A56EB6FF' ,'#4B1C57FF']\n",
    "\n",
    "metaprogram_to_color = dict(zip(metaprogram_names, metaprogram_colors))\n",
    "\n",
    "ad = adata"
   ]
  },
  {
   "cell_type": "code",
   "execution_count": 5,
   "id": "f62fa485-8040-45f8-9be1-cbada8f1dc61",
   "metadata": {},
   "outputs": [
    {
     "name": "stdout",
     "output_type": "stream",
     "text": [
      "BT2126\n",
      "7EP41\n",
      "3EP8\n",
      "7EP1\n",
      "BT775\n",
      "BT1717\n",
      "BT2169\n",
      "BT1804\n",
      "11EP22\n",
      "BT1743\n"
     ]
    }
   ],
   "source": [
    "anndata_list = []\n",
    "for sample in ad.obs['sample'].unique():\n",
    "    adata_copy_int = ad[ad.obs['sample'] == sample ]\n",
    "    adata_copy_int.obs.index = list(pd.DataFrame(list((adata_copy_int.obs['sample'])))[0] +'_' +pd.DataFrame(list((adata_copy_int.obs.index)))[0])\n",
    "    sq.gr.spatial_neighbors(adata_copy_int, coord_type = 'generic', radius = 70.0)\n",
    "    \n",
    "    if len(adata_copy_int.obs.groupby('Metaprogram').size()) == 2:\n",
    "        datf = pd.DataFrame(data = scipy.sparse.csr_matrix.todense((adata_copy_int.obsp['spatial_distances']>0)*1))\n",
    "        datf['key'] = list(adata_copy_int.obs['Metaprogram'])\n",
    "        neighmatrix = datf.groupby('key').sum().transpose()\n",
    "    else:\n",
    "        lb = LabelBinarizer(sparse_output=True)\n",
    "        grouped = lb.fit_transform(adata_copy_int.obs['Metaprogram'].to_numpy()).T.dot((adata_copy_int.obsp['spatial_distances']>0)*1)\n",
    "        neighmatrix = pd.DataFrame(data = scipy.sparse.csr_matrix.todense(grouped)).transpose()\n",
    "        neighmatrix.set_axis(sorted(adata_copy_int.obs['Metaprogram'].unique()), axis = \"columns\", copy = False)\n",
    "    \n",
    "    adataneigh = sc.AnnData(neighmatrix)\n",
    "    adataneigh.obs = adata_copy_int.obs\n",
    "    adataneigh.obs['counts'] = list(np.sum(neighmatrix,axis=1))\n",
    "    anndata_list.append(adataneigh)\n",
    "    print(sample)"
   ]
  },
  {
   "cell_type": "markdown",
   "id": "d3411c5b-6d56-4cdd-ae45-77f5617b531b",
   "metadata": {},
   "source": [
    "#### Compute centrality scores per sample"
   ]
  },
  {
   "cell_type": "code",
   "execution_count": 6,
   "id": "6f71c1c1-99a4-46bc-a8ba-9a35b41bb220",
   "metadata": {},
   "outputs": [
    {
     "name": "stdout",
     "output_type": "stream",
     "text": [
      "BT2126\n",
      "7EP41\n",
      "3EP8\n",
      "7EP1\n",
      "BT775\n",
      "BT1717\n",
      "BT2169\n",
      "BT1804\n",
      "11EP22\n",
      "BT1743\n"
     ]
    }
   ],
   "source": [
    "centralityScore_list = []\n",
    "for i in range(len(anndata_list)):\n",
    "    anndata_list[i].obsm[\"spatial\"] = np.array([anndata_list[i].obs.x_centroid*0.325, anndata_list[i].obs.y_centroid*0.325]).transpose().astype('float64')\n",
    "    anndata_list[i].X = np.nan_to_num(anndata_list[i].X)\n",
    "    anndata_list[i] = anndata_list[i][anndata_list[i].obs['counts'] > 6]\n",
    "    anndata_list[i].raw = anndata_list[i]\n",
    "    \n",
    "    sq.gr.spatial_neighbors(anndata_list[i], coord_type = \"generic\", delaunay = True)\n",
    "    sq.gr.centrality_scores(anndata_list[i], cluster_key = \"Metaprogram\")\n",
    "\n",
    "    dt = anndata_list[i].uns['Metaprogram_centrality_scores']\n",
    "    dt['Metaprogram'] = dt.index\n",
    "    dt['Sample'] = samples[i]\n",
    "    \n",
    "    centralityScore_list.append(dt)\n",
    "    print(samples[i])"
   ]
  },
  {
   "cell_type": "code",
   "execution_count": 22,
   "id": "f969c2b7-c097-442a-9c3f-cdb58360a173",
   "metadata": {},
   "outputs": [
    {
     "data": {
      "image/png": "[encoded data removed]",
      "text/plain": [
       "<Figure size 500x500 with 1 Axes>"
      ]
     },
     "metadata": {},
     "output_type": "display_data"
    }
   ],
   "source": [
    "## Concatenate scores\n",
    "dt = pd.concat(centralityScore_list)\n",
    "## Calculated average and SEM\n",
    "dt = dt.groupby(['Metaprogram'], as_index=False).agg({\n",
    "    'degree_centrality': ['mean', 'sem'],\n",
    "    'average_clustering': ['mean', 'sem'],\n",
    "    'closeness_centrality': ['mean', 'sem']\n",
    "})\n",
    "\n",
    "dt.columns = ['Metaprogram', \n",
    "              'degree_centrality_mean', 'degree_centrality_sem', \n",
    "              'average_clustering_mean', 'average_clustering_sem', \n",
    "              'closeness_centrality_mean', 'closeness_centrality_sem']\n",
    "\n",
    "## Scatter plot with error bars\n",
    "plt.figure(figsize=(5, 5))\n",
    "pt = sns.scatterplot(data=dt, x=\"average_clustering_mean\", y=\"degree_centrality_mean\", hue=\"Metaprogram\", \n",
    "                     palette=metaprogram_to_color, legend = True, s = 100)\n",
    "for i, row in dt.iterrows():\n",
    "    plt.errorbar(x=row['average_clustering_mean'], y=row['degree_centrality_mean'], \n",
    "                  xerr=row['average_clustering_sem'], yerr=row['degree_centrality_sem'], \n",
    "                 fmt='o', capsize=5, color=metaprogram_to_color[row['Metaprogram']])\n",
    "\n",
    "\n",
    "pt.set(xlabel = 'Clustering coefficient', ylabel = 'Degree of centrality')\n",
    "pt.legend(fontsize = 6)\n",
    "plt.savefig(directory+f\"/1_centrality_scores_averages.pdf\")\n",
    "plt.show()"
   ]
  },
  {
   "cell_type": "code",
   "execution_count": 23,
   "id": "3b48cadf-3d1e-46c3-b9da-55a481cfb7ef",
   "metadata": {},
   "outputs": [
    {
     "data": {
      "application/vnd.jupyter.widget-view+json": {
       "model_id": "fb827375681141a989e7f650b0c013f0",
       "version_major": 2,
       "version_minor": 0
      },
      "text/plain": [
       "  0%|          | 0/1000 [00:00<?, ?/s]"
      ]
     },
     "metadata": {},
     "output_type": "display_data"
    },
    {
     "data": {
      "application/vnd.jupyter.widget-view+json": {
       "model_id": "df4364b472e240929b7998ffa8532ad6",
       "version_major": 2,
       "version_minor": 0
      },
      "text/plain": [
       "  0%|          | 0/1000 [00:00<?, ?/s]"
      ]
     },
     "metadata": {},
     "output_type": "display_data"
    },
    {
     "data": {
      "application/vnd.jupyter.widget-view+json": {
       "model_id": "1a9ea1a9a3fa489f9952e2d76a3e9a20",
       "version_major": 2,
       "version_minor": 0
      },
      "text/plain": [
       "  0%|          | 0/1000 [00:00<?, ?/s]"
      ]
     },
     "metadata": {},
     "output_type": "display_data"
    },
    {
     "data": {
      "application/vnd.jupyter.widget-view+json": {
       "model_id": "d7f66dce4b0847078dc449fa4dfafc81",
       "version_major": 2,
       "version_minor": 0
      },
      "text/plain": [
       "  0%|          | 0/1000 [00:00<?, ?/s]"
      ]
     },
     "metadata": {},
     "output_type": "display_data"
    },
    {
     "data": {
      "application/vnd.jupyter.widget-view+json": {
       "model_id": "2c569d2ba012458ea4a590dd0e52464a",
       "version_major": 2,
       "version_minor": 0
      },
      "text/plain": [
       "  0%|          | 0/1000 [00:00<?, ?/s]"
      ]
     },
     "metadata": {},
     "output_type": "display_data"
    },
    {
     "data": {
      "application/vnd.jupyter.widget-view+json": {
       "model_id": "d189194861f741dbabf4ff2476b370a8",
       "version_major": 2,
       "version_minor": 0
      },
      "text/plain": [
       "  0%|          | 0/1000 [00:00<?, ?/s]"
      ]
     },
     "metadata": {},
     "output_type": "display_data"
    },
    {
     "data": {
      "application/vnd.jupyter.widget-view+json": {
       "model_id": "4fa23ff1e21b4f1ea241663900b7de60",
       "version_major": 2,
       "version_minor": 0
      },
      "text/plain": [
       "  0%|          | 0/1000 [00:00<?, ?/s]"
      ]
     },
     "metadata": {},
     "output_type": "display_data"
    },
    {
     "data": {
      "application/vnd.jupyter.widget-view+json": {
       "model_id": "e0789a9c6be449b087ae23851f994bc6",
       "version_major": 2,
       "version_minor": 0
      },
      "text/plain": [
       "  0%|          | 0/1000 [00:00<?, ?/s]"
      ]
     },
     "metadata": {},
     "output_type": "display_data"
    },
    {
     "data": {
      "application/vnd.jupyter.widget-view+json": {
       "model_id": "b6dd6a306d4144879196c8702a7c08e8",
       "version_major": 2,
       "version_minor": 0
      },
      "text/plain": [
       "  0%|          | 0/1000 [00:00<?, ?/s]"
      ]
     },
     "metadata": {},
     "output_type": "display_data"
    },
    {
     "data": {
      "application/vnd.jupyter.widget-view+json": {
       "model_id": "f208ef6b25aa4fc09c35a13144b13f76",
       "version_major": 2,
       "version_minor": 0
      },
      "text/plain": [
       "  0%|          | 0/1000 [00:00<?, ?/s]"
      ]
     },
     "metadata": {},
     "output_type": "display_data"
    }
   ],
   "source": [
    "# Calculate neighborhood\n",
    "nhood_list = []\n",
    "for i in range(len(anndata_list)):\n",
    "    sq.gr.nhood_enrichment(anndata_list[i], cluster_key = \"Metaprogram\", seed = 1234)\n",
    "    \n",
    "    df = pd.DataFrame(anndata_list[i].uns['Metaprogram_nhood_enrichment']['zscore'])\n",
    "    df.index = anndata_list[i].uns['Metaprogram_centrality_scores'].index\n",
    "    df.columns = anndata_list[i].uns['Metaprogram_centrality_scores'].index\n",
    "    df['Programs'] = anndata_list[i].uns['Metaprogram_centrality_scores'].index\n",
    "    df = pd.melt(df, id_vars='Metaprogram')\n",
    "    \n",
    "    nhood_list.append(df)\n"
   ]
  },
  {
   "cell_type": "code",
   "execution_count": 36,
   "id": "17d0c9bb-75a5-48ad-a7d6-38db28e2fa8b",
   "metadata": {},
   "outputs": [],
   "source": [
    "## Averaging metrics\n",
    "dt = pd.concat(nhood_list)\n",
    "dt = dt.groupby(['Programs', 'variable'], as_index=False).agg({'value': 'mean'})\n",
    "dt = dt.pivot(index='Programs', columns='variable')['value']\n",
    "dt.to_csv(directory+f'2_neighborhood.csv')"
   ]
  },
  {
   "cell_type": "code",
   "execution_count": 24,
   "id": "8986b4bf-bce7-471a-8add-18f832b32f39",
   "metadata": {},
   "outputs": [
    {
     "data": {
      "text/plain": [
       "[                Programs              variable       value\n",
       " 0            Endothelial           Endothelial  243.385883\n",
       " 1         Ependymal-like           Endothelial  -42.737673\n",
       " 2                Myeloid           Endothelial    5.211920\n",
       " 3               NPC-like           Endothelial  -79.036019\n",
       " 4   Neuroepithelial-like           Endothelial  -97.332827\n",
       " 5                 T-cell           Endothelial    3.218600\n",
       " 6            Endothelial        Ependymal-like  -42.737673\n",
       " 7         Ependymal-like        Ependymal-like  136.693294\n",
       " 8                Myeloid        Ependymal-like    2.892415\n",
       " 9               NPC-like        Ependymal-like   58.375129\n",
       " 10  Neuroepithelial-like        Ependymal-like -116.717818\n",
       " 11                T-cell        Ependymal-like    4.504631\n",
       " 12           Endothelial               Myeloid    5.211920\n",
       " 13        Ependymal-like               Myeloid    2.892415\n",
       " 14               Myeloid               Myeloid   56.189708\n",
       " 15              NPC-like               Myeloid    5.484578\n",
       " 16  Neuroepithelial-like               Myeloid  -66.679376\n",
       " 17                T-cell               Myeloid   24.097417\n",
       " 18           Endothelial              NPC-like  -79.036019\n",
       " 19        Ependymal-like              NPC-like   58.375129\n",
       " 20               Myeloid              NPC-like    5.484578\n",
       " 21              NPC-like              NPC-like  217.691596\n",
       " 22  Neuroepithelial-like              NPC-like -254.837978\n",
       " 23                T-cell              NPC-like    9.011526\n",
       " 24           Endothelial  Neuroepithelial-like  -97.332827\n",
       " 25        Ependymal-like  Neuroepithelial-like -116.717818\n",
       " 26               Myeloid  Neuroepithelial-like  -66.679376\n",
       " 27              NPC-like  Neuroepithelial-like -254.837978\n",
       " 28  Neuroepithelial-like  Neuroepithelial-like  282.164453\n",
       " 29                T-cell  Neuroepithelial-like  -33.985403\n",
       " 30           Endothelial                T-cell    3.218600\n",
       " 31        Ependymal-like                T-cell    4.504631\n",
       " 32               Myeloid                T-cell   24.097417\n",
       " 33              NPC-like                T-cell    9.011526\n",
       " 34  Neuroepithelial-like                T-cell  -33.985403\n",
       " 35                T-cell                T-cell   32.077778,\n",
       "                 Programs              variable       value\n",
       " 0            Endothelial           Endothelial  362.162876\n",
       " 1         Ependymal-like           Endothelial -137.750405\n",
       " 2            Mesenchymal           Endothelial  -70.906070\n",
       " 3                Myeloid           Endothelial   69.658457\n",
       " 4               NPC-like           Endothelial  -84.154286\n",
       " 5   Neuroepithelial-like           Endothelial  -26.223825\n",
       " 6                 T-cell           Endothelial   21.687613\n",
       " 7            Endothelial        Ependymal-like -137.750405\n",
       " 8         Ependymal-like        Ependymal-like  272.336533\n",
       " 9            Mesenchymal        Ependymal-like -200.906346\n",
       " 10               Myeloid        Ependymal-like  -59.498553\n",
       " 11              NPC-like        Ependymal-like -147.297343\n",
       " 12  Neuroepithelial-like        Ependymal-like -116.929924\n",
       " 13                T-cell        Ependymal-like  -13.633279\n",
       " 14           Endothelial           Mesenchymal  -70.906070\n",
       " 15        Ependymal-like           Mesenchymal -200.906346\n",
       " 16           Mesenchymal           Mesenchymal  422.558518\n",
       " 17               Myeloid           Mesenchymal  -16.013723\n",
       " 18              NPC-like           Mesenchymal -120.581666\n",
       " 19  Neuroepithelial-like           Mesenchymal   11.386024\n",
       " 20                T-cell           Mesenchymal  -15.950445\n",
       " 21           Endothelial               Myeloid   69.658457\n",
       " 22        Ependymal-like               Myeloid  -59.498553\n",
       " 23           Mesenchymal               Myeloid  -16.013723\n",
       " 24               Myeloid               Myeloid  127.001267\n",
       " 25              NPC-like               Myeloid  -49.907610\n",
       " 26  Neuroepithelial-like               Myeloid   -4.479618\n",
       " 27                T-cell               Myeloid   20.525901\n",
       " 28           Endothelial              NPC-like  -84.154286\n",
       " 29        Ependymal-like              NPC-like -147.297343\n",
       " 30           Mesenchymal              NPC-like -120.581666\n",
       " 31               Myeloid              NPC-like  -49.907610\n",
       " 32              NPC-like              NPC-like  280.930815\n",
       " 33  Neuroepithelial-like              NPC-like  -79.887364\n",
       " 34                T-cell              NPC-like   -2.231655\n",
       " 35           Endothelial  Neuroepithelial-like  -26.223825\n",
       " 36        Ependymal-like  Neuroepithelial-like -116.929924\n",
       " 37           Mesenchymal  Neuroepithelial-like   11.386024\n",
       " 38               Myeloid  Neuroepithelial-like   -4.479618\n",
       " 39              NPC-like  Neuroepithelial-like  -79.887364\n",
       " 40  Neuroepithelial-like  Neuroepithelial-like  306.493888\n",
       " 41                T-cell  Neuroepithelial-like    3.544796\n",
       " 42           Endothelial                T-cell   21.687613\n",
       " 43        Ependymal-like                T-cell  -13.633279\n",
       " 44           Mesenchymal                T-cell  -15.950445\n",
       " 45               Myeloid                T-cell   20.525901\n",
       " 46              NPC-like                T-cell   -2.231655\n",
       " 47  Neuroepithelial-like                T-cell    3.544796\n",
       " 48                T-cell                T-cell   26.465740,\n",
       "                 Programs              variable       value\n",
       " 0         Ependymal-like        Ependymal-like  175.910355\n",
       " 1                Myeloid        Ependymal-like  -82.679434\n",
       " 2               NPC-like        Ependymal-like  -88.274381\n",
       " 3   Neuroepithelial-like        Ependymal-like  -69.807420\n",
       " 4       Radial glia-like        Ependymal-like  -16.342968\n",
       " 5                  VLMCs        Ependymal-like -141.895784\n",
       " 6         Ependymal-like               Myeloid  -82.679434\n",
       " 7                Myeloid               Myeloid   73.626855\n",
       " 8               NPC-like               Myeloid  -38.639926\n",
       " 9   Neuroepithelial-like               Myeloid    8.914955\n",
       " 10      Radial glia-like               Myeloid    7.344937\n",
       " 11                 VLMCs               Myeloid   78.882667\n",
       " 12        Ependymal-like              NPC-like  -88.274381\n",
       " 13               Myeloid              NPC-like  -38.639926\n",
       " 14              NPC-like              NPC-like  201.423147\n",
       " 15  Neuroepithelial-like              NPC-like  -43.845366\n",
       " 16      Radial glia-like              NPC-like   12.306776\n",
       " 17                 VLMCs              NPC-like -117.552284\n",
       " 18        Ependymal-like  Neuroepithelial-like  -69.807420\n",
       " 19               Myeloid  Neuroepithelial-like    8.914955\n",
       " 20              NPC-like  Neuroepithelial-like  -43.845366\n",
       " 21  Neuroepithelial-like  Neuroepithelial-like  200.780549\n",
       " 22      Radial glia-like  Neuroepithelial-like   -5.018335\n",
       " 23                 VLMCs  Neuroepithelial-like  -28.600504\n",
       " 24        Ependymal-like      Radial glia-like  -16.342968\n",
       " 25               Myeloid      Radial glia-like    7.344937\n",
       " 26              NPC-like      Radial glia-like   12.306776\n",
       " 27  Neuroepithelial-like      Radial glia-like   -5.018335\n",
       " 28      Radial glia-like      Radial glia-like   48.864644\n",
       " 29                 VLMCs      Radial glia-like   -6.292495\n",
       " 30        Ependymal-like                 VLMCs -141.895784\n",
       " 31               Myeloid                 VLMCs   78.882667\n",
       " 32              NPC-like                 VLMCs -117.552284\n",
       " 33  Neuroepithelial-like                 VLMCs  -28.600504\n",
       " 34      Radial glia-like                 VLMCs   -6.292495\n",
       " 35                 VLMCs                 VLMCs  219.626403,\n",
       "           Programs        variable       value\n",
       " 0      Endothelial     Endothelial  115.875898\n",
       " 1   Ependymal-like     Endothelial  -20.108323\n",
       " 2          Myeloid     Endothelial   15.305213\n",
       " 3         NPC-like     Endothelial  -87.855510\n",
       " 4           T-cell     Endothelial  -13.836127\n",
       " 5            VLMCs     Endothelial  -27.087731\n",
       " 6      Endothelial  Ependymal-like  -20.108323\n",
       " 7   Ependymal-like  Ependymal-like  112.372040\n",
       " 8          Myeloid  Ependymal-like  -19.880002\n",
       " 9         NPC-like  Ependymal-like  -70.287986\n",
       " 10          T-cell  Ependymal-like  -38.639975\n",
       " 11           VLMCs  Ependymal-like  -60.580644\n",
       " 12     Endothelial         Myeloid   15.305213\n",
       " 13  Ependymal-like         Myeloid  -19.880002\n",
       " 14         Myeloid         Myeloid   59.646784\n",
       " 15        NPC-like         Myeloid  -89.318132\n",
       " 16          T-cell         Myeloid   42.443020\n",
       " 17           VLMCs         Myeloid   42.360196\n",
       " 18     Endothelial        NPC-like  -87.855510\n",
       " 19  Ependymal-like        NPC-like  -70.287986\n",
       " 20         Myeloid        NPC-like  -89.318132\n",
       " 21        NPC-like        NPC-like  176.581032\n",
       " 22          T-cell        NPC-like  -67.797180\n",
       " 23           VLMCs        NPC-like  -72.070652\n",
       " 24     Endothelial          T-cell  -13.836127\n",
       " 25  Ependymal-like          T-cell  -38.639975\n",
       " 26         Myeloid          T-cell   42.443020\n",
       " 27        NPC-like          T-cell  -67.797180\n",
       " 28          T-cell          T-cell   92.735491\n",
       " 29           VLMCs          T-cell   80.903648\n",
       " 30     Endothelial           VLMCs  -27.087731\n",
       " 31  Ependymal-like           VLMCs  -60.580644\n",
       " 32         Myeloid           VLMCs   42.360196\n",
       " 33        NPC-like           VLMCs  -72.070652\n",
       " 34          T-cell           VLMCs   80.903648\n",
       " 35           VLMCs           VLMCs  171.661249,\n",
       "                 Programs              variable       value\n",
       " 0            Endothelial           Endothelial  240.334061\n",
       " 1         Ependymal-like           Endothelial  -69.288845\n",
       " 2            Mesenchymal           Endothelial  -71.175451\n",
       " 3                Myeloid           Endothelial   35.179943\n",
       " 4               NPC-like           Endothelial  -61.190445\n",
       " 5   Neuroepithelial-like           Endothelial  -22.776249\n",
       " 6            Endothelial        Ependymal-like  -69.288845\n",
       " 7         Ependymal-like        Ependymal-like  261.938535\n",
       " 8            Mesenchymal        Ependymal-like -197.219573\n",
       " 9                Myeloid        Ependymal-like  -28.479029\n",
       " 10              NPC-like        Ependymal-like  -77.460222\n",
       " 11  Neuroepithelial-like        Ependymal-like  -77.620104\n",
       " 12           Endothelial           Mesenchymal  -71.175451\n",
       " 13        Ependymal-like           Mesenchymal -197.219573\n",
       " 14           Mesenchymal           Mesenchymal  388.730103\n",
       " 15               Myeloid           Mesenchymal  -45.533873\n",
       " 16              NPC-like           Mesenchymal -117.513443\n",
       " 17  Neuroepithelial-like           Mesenchymal -125.232687\n",
       " 18           Endothelial               Myeloid   35.179943\n",
       " 19        Ependymal-like               Myeloid  -28.479029\n",
       " 20           Mesenchymal               Myeloid  -45.533873\n",
       " 21               Myeloid               Myeloid  150.136564\n",
       " 22              NPC-like               Myeloid  -74.140618\n",
       " 23  Neuroepithelial-like               Myeloid  -41.264788\n",
       " 24           Endothelial              NPC-like  -61.190445\n",
       " 25        Ependymal-like              NPC-like  -77.460222\n",
       " 26           Mesenchymal              NPC-like -117.513443\n",
       " 27               Myeloid              NPC-like  -74.140618\n",
       " 28              NPC-like              NPC-like  267.120970\n",
       " 29  Neuroepithelial-like              NPC-like  -59.297070\n",
       " 30           Endothelial  Neuroepithelial-like  -22.776249\n",
       " 31        Ependymal-like  Neuroepithelial-like  -77.620104\n",
       " 32           Mesenchymal  Neuroepithelial-like -125.232687\n",
       " 33               Myeloid  Neuroepithelial-like  -41.264788\n",
       " 34              NPC-like  Neuroepithelial-like  -59.297070\n",
       " 35  Neuroepithelial-like  Neuroepithelial-like  217.526209,\n",
       "                 Programs              variable       value\n",
       " 0            Endothelial           Endothelial  327.586563\n",
       " 1         Ependymal-like           Endothelial -159.932016\n",
       " 2            Mesenchymal           Endothelial  -68.905111\n",
       " 3                Myeloid           Endothelial   83.228062\n",
       " 4               NPC-like           Endothelial  -80.508074\n",
       " 5   Neuroepithelial-like           Endothelial  -55.986298\n",
       " 6            Endothelial        Ependymal-like -159.932016\n",
       " 7         Ependymal-like        Ependymal-like  173.676108\n",
       " 8            Mesenchymal        Ependymal-like -155.093915\n",
       " 9                Myeloid        Ependymal-like  -82.943803\n",
       " 10              NPC-like        Ependymal-like  -94.669756\n",
       " 11  Neuroepithelial-like        Ependymal-like  -27.424963\n",
       " 12           Endothelial           Mesenchymal  -68.905111\n",
       " 13        Ependymal-like           Mesenchymal -155.093915\n",
       " 14           Mesenchymal           Mesenchymal  620.421346\n",
       " 15               Myeloid           Mesenchymal    6.245431\n",
       " 16              NPC-like           Mesenchymal  -83.302598\n",
       " 17  Neuroepithelial-like           Mesenchymal  -70.006577\n",
       " 18           Endothelial               Myeloid   83.228062\n",
       " 19        Ependymal-like               Myeloid  -82.943803\n",
       " 20           Mesenchymal               Myeloid    6.245431\n",
       " 21               Myeloid               Myeloid  164.648407\n",
       " 22              NPC-like               Myeloid  -37.584693\n",
       " 23  Neuroepithelial-like               Myeloid  -31.092637\n",
       " 24           Endothelial              NPC-like  -80.508074\n",
       " 25        Ependymal-like              NPC-like  -94.669756\n",
       " 26           Mesenchymal              NPC-like  -83.302598\n",
       " 27               Myeloid              NPC-like  -37.584693\n",
       " 28              NPC-like              NPC-like  178.434761\n",
       " 29  Neuroepithelial-like              NPC-like   36.908880\n",
       " 30           Endothelial  Neuroepithelial-like  -55.986298\n",
       " 31        Ependymal-like  Neuroepithelial-like  -27.424963\n",
       " 32           Mesenchymal  Neuroepithelial-like  -70.006577\n",
       " 33               Myeloid  Neuroepithelial-like  -31.092637\n",
       " 34              NPC-like  Neuroepithelial-like   36.908880\n",
       " 35  Neuroepithelial-like  Neuroepithelial-like   85.480759,\n",
       "                 Programs              variable       value\n",
       " 0         Ependymal-like        Ependymal-like  274.038438\n",
       " 1            Mesenchymal        Ependymal-like  -87.627972\n",
       " 2              Microglia        Ependymal-like -136.861599\n",
       " 3                Myeloid        Ependymal-like  -48.600937\n",
       " 4               NPC-like        Ependymal-like -128.605374\n",
       " 5   Neuroepithelial-like        Ependymal-like -129.011744\n",
       " 6         Ependymal-like           Mesenchymal  -87.627972\n",
       " 7            Mesenchymal           Mesenchymal  186.525256\n",
       " 8              Microglia           Mesenchymal  -37.188285\n",
       " 9                Myeloid           Mesenchymal   13.654965\n",
       " 10              NPC-like           Mesenchymal  -56.172171\n",
       " 11  Neuroepithelial-like           Mesenchymal  -41.192057\n",
       " 12        Ependymal-like             Microglia -136.861599\n",
       " 13           Mesenchymal             Microglia  -37.188285\n",
       " 14             Microglia             Microglia   91.599644\n",
       " 15               Myeloid             Microglia   -4.265656\n",
       " 16              NPC-like             Microglia   59.886151\n",
       " 17  Neuroepithelial-like             Microglia   46.494248\n",
       " 18        Ependymal-like               Myeloid  -48.600937\n",
       " 19           Mesenchymal               Myeloid   13.654965\n",
       " 20             Microglia               Myeloid   -4.265656\n",
       " 21               Myeloid               Myeloid   96.329560\n",
       " 22              NPC-like               Myeloid  -24.939155\n",
       " 23  Neuroepithelial-like               Myeloid   -1.660290\n",
       " 24        Ependymal-like              NPC-like -128.605374\n",
       " 25           Mesenchymal              NPC-like  -56.172171\n",
       " 26             Microglia              NPC-like   59.886151\n",
       " 27               Myeloid              NPC-like  -24.939155\n",
       " 28              NPC-like              NPC-like  188.478256\n",
       " 29  Neuroepithelial-like              NPC-like  -33.830023\n",
       " 30        Ependymal-like  Neuroepithelial-like -129.011744\n",
       " 31           Mesenchymal  Neuroepithelial-like  -41.192057\n",
       " 32             Microglia  Neuroepithelial-like   46.494248\n",
       " 33               Myeloid  Neuroepithelial-like   -1.660290\n",
       " 34              NPC-like  Neuroepithelial-like  -33.830023\n",
       " 35  Neuroepithelial-like  Neuroepithelial-like  113.076090,\n",
       "           Programs        variable       value\n",
       " 0   Ependymal-like  Ependymal-like  216.440487\n",
       " 1      Mesenchymal  Ependymal-like  -13.860823\n",
       " 2          Myeloid  Ependymal-like  -11.599508\n",
       " 3         NPC-like  Ependymal-like -145.859221\n",
       " 4           T-cell  Ependymal-like   -2.904492\n",
       " 5            VLMCs  Ependymal-like  -12.347810\n",
       " 6   Ependymal-like     Mesenchymal  -13.860823\n",
       " 7      Mesenchymal     Mesenchymal  194.018670\n",
       " 8          Myeloid     Mesenchymal    9.489552\n",
       " 9         NPC-like     Mesenchymal  -90.003664\n",
       " 10          T-cell     Mesenchymal   -3.626344\n",
       " 11           VLMCs     Mesenchymal  -21.452762\n",
       " 12  Ependymal-like         Myeloid  -11.599508\n",
       " 13     Mesenchymal         Myeloid    9.489552\n",
       " 14         Myeloid         Myeloid   80.916571\n",
       " 15        NPC-like         Myeloid  -66.668686\n",
       " 16          T-cell         Myeloid   10.086545\n",
       " 17           VLMCs         Myeloid   -5.853462\n",
       " 18  Ependymal-like        NPC-like -145.859221\n",
       " 19     Mesenchymal        NPC-like  -90.003664\n",
       " 20         Myeloid        NPC-like  -66.668686\n",
       " 21        NPC-like        NPC-like  140.192346\n",
       " 22          T-cell        NPC-like  -28.317303\n",
       " 23           VLMCs        NPC-like  -41.125204\n",
       " 24  Ependymal-like          T-cell   -2.904492\n",
       " 25     Mesenchymal          T-cell   -3.626344\n",
       " 26         Myeloid          T-cell   10.086545\n",
       " 27        NPC-like          T-cell  -28.317303\n",
       " 28          T-cell          T-cell   69.089482\n",
       " 29           VLMCs          T-cell   -1.902942\n",
       " 30  Ependymal-like           VLMCs  -12.347810\n",
       " 31     Mesenchymal           VLMCs  -21.452762\n",
       " 32         Myeloid           VLMCs   -5.853462\n",
       " 33        NPC-like           VLMCs  -41.125204\n",
       " 34          T-cell           VLMCs   -1.902942\n",
       " 35           VLMCs           VLMCs   87.679013,\n",
       "                 Programs              variable       value\n",
       " 0         Ependymal-like        Ependymal-like  208.263104\n",
       " 1            Mesenchymal        Ependymal-like  -83.626038\n",
       " 2                Myeloid        Ependymal-like    3.537265\n",
       " 3               NPC-like        Ependymal-like -200.008362\n",
       " 4   Neuroepithelial-like        Ependymal-like  -13.118942\n",
       " 5         Ependymal-like           Mesenchymal  -83.626038\n",
       " 6            Mesenchymal           Mesenchymal  498.328593\n",
       " 7                Myeloid           Mesenchymal  -18.570625\n",
       " 8               NPC-like           Mesenchymal -121.654870\n",
       " 9   Neuroepithelial-like           Mesenchymal  -37.884038\n",
       " 10        Ependymal-like               Myeloid    3.537265\n",
       " 11           Mesenchymal               Myeloid  -18.570625\n",
       " 12               Myeloid               Myeloid  167.091515\n",
       " 13              NPC-like               Myeloid  -94.341877\n",
       " 14  Neuroepithelial-like               Myeloid   64.558168\n",
       " 15        Ependymal-like              NPC-like -200.008362\n",
       " 16           Mesenchymal              NPC-like -121.654870\n",
       " 17               Myeloid              NPC-like  -94.341877\n",
       " 18              NPC-like              NPC-like  245.655505\n",
       " 19  Neuroepithelial-like              NPC-like -167.973717\n",
       " 20        Ependymal-like  Neuroepithelial-like  -13.118942\n",
       " 21           Mesenchymal  Neuroepithelial-like  -37.884038\n",
       " 22               Myeloid  Neuroepithelial-like   64.558168\n",
       " 23              NPC-like  Neuroepithelial-like -167.973717\n",
       " 24  Neuroepithelial-like  Neuroepithelial-like  314.056163,\n",
       "                 Programs              variable       value\n",
       " 0         Ependymal-like        Ependymal-like  125.998187\n",
       " 1            Mesenchymal        Ependymal-like  -98.852625\n",
       " 2                Myeloid        Ependymal-like  -24.266935\n",
       " 3               NPC-like        Ependymal-like  -10.759644\n",
       " 4   Neuroepithelial-like        Ependymal-like  -53.558220\n",
       " 5         Ependymal-like           Mesenchymal  -98.852625\n",
       " 6            Mesenchymal           Mesenchymal  308.536699\n",
       " 7                Myeloid           Mesenchymal  -24.335227\n",
       " 8               NPC-like           Mesenchymal -186.366836\n",
       " 9   Neuroepithelial-like           Mesenchymal  -74.412324\n",
       " 10        Ependymal-like               Myeloid  -24.266935\n",
       " 11           Mesenchymal               Myeloid  -24.335227\n",
       " 12               Myeloid               Myeloid  167.141098\n",
       " 13              NPC-like               Myeloid  -52.919603\n",
       " 14  Neuroepithelial-like               Myeloid   22.580711\n",
       " 15        Ependymal-like              NPC-like  -10.759644\n",
       " 16           Mesenchymal              NPC-like -186.366836\n",
       " 17               Myeloid              NPC-like  -52.919603\n",
       " 18              NPC-like              NPC-like  165.064506\n",
       " 19  Neuroepithelial-like              NPC-like -122.431534\n",
       " 20        Ependymal-like  Neuroepithelial-like  -53.558220\n",
       " 21           Mesenchymal  Neuroepithelial-like  -74.412324\n",
       " 22               Myeloid  Neuroepithelial-like   22.580711\n",
       " 23              NPC-like  Neuroepithelial-like -122.431534\n",
       " 24  Neuroepithelial-like  Neuroepithelial-like  277.336945]"
      ]
     },
     "execution_count": 24,
     "metadata": {},
     "output_type": "execute_result"
    }
   ],
   "source": [
    "nhood_list"
   ]
  }
 ],
 "metadata": {
  "kernelspec": {
   "display_name": "Python 3 (ipykernel)",
   "language": "python",
   "name": "python3"
  },
  "language_info": {
   "codemirror_mode": {
    "name": "ipython",
    "version": 3
   },
   "file_extension": ".py",
   "mimetype": "text/x-python",
   "name": "python",
   "nbconvert_exporter": "python",
   "pygments_lexer": "ipython3",
   "version": "3.9.14"
  }
 },
 "nbformat": 4,
 "nbformat_minor": 5
}
