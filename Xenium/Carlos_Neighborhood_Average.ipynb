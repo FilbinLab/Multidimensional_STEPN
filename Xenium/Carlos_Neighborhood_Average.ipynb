{
 "cells": [
  {
   "cell_type": "markdown",
   "id": "10bd8cf0-6dec-4b55-af4c-906bda44c873",
   "metadata": {},
   "source": [
    "Group and sum by metaprogram problem solved with: https://stackoverflow.com/questions/39650749/group-by-sparse-matrix-in-scipy-and-return-a-matrix"
   ]
  },
  {
   "cell_type": "markdown",
   "id": "218c8ba1-ac5a-4c9d-861c-b29fc87813e1",
   "metadata": {},
   "source": [
    "#### Load modules"
   ]
  },
  {
   "cell_type": "code",
   "execution_count": 1,
   "id": "16bbf62c-43e3-4d75-91c3-70e6f8b400fe",
   "metadata": {},
   "outputs": [],
   "source": [
    "import numpy as np\n",
    "import pandas as pd\n",
    "import numpy as np\n",
    "import matplotlib.pyplot as plt\n",
    "import seaborn as sns\n",
    "import scipy\n",
    "import os\n",
    "\n",
    "import scanpy as sc\n",
    "import squidpy as sq\n",
    "\n",
    "import scipy\n",
    "\n",
    "from sklearn.preprocessing import LabelBinarizer\n",
    "\n",
    "import warnings\n",
    "warnings.filterwarnings(\"ignore\")"
   ]
  },
  {
   "cell_type": "code",
   "execution_count": 2,
   "id": "b735b2ab-022c-4ee6-9de4-dbc6a6fd49ce",
   "metadata": {},
   "outputs": [
    {
     "name": "stdout",
     "output_type": "stream",
     "text": [
      "BT2126\n",
      "7EP41\n",
      "3EP8\n",
      "7EP1\n",
      "BT775\n",
      "BT2169\n",
      "BT1804\n",
      "11EP22\n",
      "BT1743\n"
     ]
    }
   ],
   "source": [
    "# sample BT1717 was excluded because it was creating problems during metaprogram annotation, and it has extremely high number of cells that confounds the results\n",
    "samples = ['BT2126', '7EP41', '3EP8', '7EP1', 'BT775', 'BT2169', 'BT1804', '11EP22',  'BT1743']\n",
    "\n",
    "path = ['/n/scratch/users/s/sad167/EPN/Xenium/data/raw_data/20231020__200939__BT2126_BT1745/output-XETG00083__0010652__Region_4__20231020__201259',\n",
    "        '/n/scratch/users/s/sad167/EPN/Xenium/data/raw_data/20231102__215055__7EP1_7EP41_3EP8/output-XETG00083__0010575__Region_3__20231102__215155',\n",
    "        '/n/scratch/users/s/sad167/EPN/Xenium/data/raw_data/20231102__215055__7EP1_7EP41_3EP8/output-XETG00083__0010619__Region_3__20231102__215155',\n",
    "        '/n/scratch/users/s/sad167/EPN/Xenium/data/raw_data/20231102__215055__7EP1_7EP41_3EP8/output-XETG00083__0010619__Region_5__20231102__215155',\n",
    "        '/n/scratch/users/s/sad167/EPN/Xenium/data/raw_data/20231107__203958__BT1717_BT775/0010501-Region_2',\n",
    "        '/n/scratch/users/s/sad167/EPN/Xenium/data/raw_data/20231109__203408__BT1804_BT2169/output-XETG00083__0010498__Region_1__20231109__203421',\n",
    "        '/n/scratch/users/s/sad167/EPN/Xenium/data/raw_data/20231109__203408__BT1804_BT2169/output-XETG00083__0010775__Region_1__20231109__203421',\n",
    "        '/n/scratch/users/s/sad167/EPN/Xenium/data/raw_data/20231208__193657__3EP8_BT1743_7EP1_11EP22_7EP41/output-XETG00083__0010540__Region_1__20231208__193752',\n",
    "        '/n/scratch/users/s/sad167/EPN/Xenium/data/raw_data/20231208__193657__3EP8_BT1743_7EP1_11EP22_7EP41/output-XETG00083__0010553__Region_3__20231208__193752']\n",
    "\n",
    "metadata = ['/n/scratch/users/s/sad167/EPN/Xenium/analysis/20231020__200939__BT2126_BT1745/data/individual/cell_ID_0010652-Region_4.csv',\n",
    "            '/n/scratch/users/s/sad167/EPN/Xenium/analysis/20231102__215055__7EP1_7EP41_3EP8/data/individual/cell_ID_0010575-Region_3.csv',\n",
    "            '/n/scratch/users/s/sad167/EPN/Xenium/analysis/20231102__215055__7EP1_7EP41_3EP8/data/individual/cell_ID_0010619-Region_3.csv',\n",
    "            '/n/scratch/users/s/sad167/EPN/Xenium/analysis/20231102__215055__7EP1_7EP41_3EP8/data/individual/cell_ID_0010619-Region_5.csv',\n",
    "            '/n/scratch/users/s/sad167/EPN/Xenium/analysis/20231107__203958__BT1717_BT775/data/individual/cell_ID_0010501-Region_2.csv',\n",
    "            '/n/scratch/users/s/sad167/EPN/Xenium/analysis/20231109__203408__BT1804_BT2169/data/individual/cell_ID_0010498-Region_1.csv',\n",
    "            '/n/scratch/users/s/sad167/EPN/Xenium/analysis/20231109__203408__BT1804_BT2169/data/individual/cell_ID_0010775-Region_1.csv',\n",
    "            '/n/scratch/users/s/sad167/EPN/Xenium/analysis/20231208__193657__3EP8_BT1743_7EP1_11EP22_7EP41/data/individual/cell_ID_0010540-Region_1.csv',            \n",
    "            '/n/scratch/users/s/sad167/EPN/Xenium/analysis/20231208__193657__3EP8_BT1743_7EP1_11EP22_7EP41/data/individual/cell_ID_0010553-Region_3.csv']\n",
    "\n",
    "\n",
    "anndata_list = []\n",
    "for i in range(len(samples)):\n",
    "    adata = sc.read_10x_h5(filename = path[i]+'/cell_feature_matrix.h5')\n",
    "    df = pd.read_csv(path[i]+'/cells.csv.gz')\n",
    "    \n",
    "    df.set_index(adata.obs_names, inplace=True)\n",
    "    adata.obs = df.copy()\n",
    "    \n",
    "    #adata.obsm[\"spatial\"] = adata.obs[[\"x_centroid\", \"y_centroid\"]].copy().to_numpy()\n",
    "    adata.obsm[\"spatial\"] = np.array([adata.obs.x_centroid*0.325, adata.obs.y_centroid*0.325]).transpose().astype('float64')\n",
    "    \n",
    "    anno = pd.read_csv(metadata[i], index_col = 0)\n",
    "    if 'X' in anno.columns:\n",
    "        anno.index = anno['X']\n",
    "    \n",
    "    adata = adata[anno.index,:]\n",
    "    \n",
    "    adata.obs['Metaprogram'] = anno['group']\n",
    "    adata.obs['Metaprogram'] = adata.obs['Metaprogram'].astype('category')\n",
    "    adata.obs['sample'] = samples[i]\n",
    "    \n",
    "    anndata_list.append(adata)\n",
    "    \n",
    "    print(samples[i])\n",
    "\n",
    "adata = sc.concat(anndata_list)"
   ]
  },
  {
   "cell_type": "code",
   "execution_count": 3,
   "id": "8a380730-e7cb-461e-935e-cb1b8634738d",
   "metadata": {},
   "outputs": [],
   "source": [
    "# Subset to remove \"Unassigned\" program and oligodendrocytes (too little cell number)\n",
    "adata = adata[~adata.obs['Metaprogram'].isin(['Unassigned', 'Oligodendrocytes'])]\n",
    "\n",
    "# Create a color palette for each unique Metaprogram\n",
    "metaprogram_names = [\"Cycling\", \"Neuroepithelial-like\", \"Radial glia-like\", \n",
    "                          \"NPC-like\" ,\"Ependymal-like\", \"Mesenchymal\", \"Unassigned\", \n",
    "                          \"T-cell\", \"Myeloid\", \"Microglia\", \"Endothelial\", \"Neurons\", \"VLMCs\", \"Oligodendrocytes\"]\n",
    "\n",
    "metaprogram_colors = [\"gray30\",\"#F99E93FF\",\"#9E5E9BFF\",\"#74ADD1FF\",\"#ACD39EFF\",\"#96410EFF\", 'black',\n",
    "                   '#BDA14DFF', '#3EBCB6FF', '#0169C4FF', '#153460FF', '#D5114EFF' ,'#A56EB6FF' ,'#4B1C57FF']\n",
    "\n",
    "metaprogram_to_color = dict(zip(metaprogram_names, metaprogram_colors))\n",
    "\n",
    "ad = adata"
   ]
  },
  {
   "cell_type": "code",
   "execution_count": 4,
   "id": "f62fa485-8040-45f8-9be1-cbada8f1dc61",
   "metadata": {},
   "outputs": [
    {
     "name": "stdout",
     "output_type": "stream",
     "text": [
      "BT2126\n",
      "7EP41\n",
      "3EP8\n",
      "7EP1\n",
      "BT775\n",
      "BT2169\n",
      "BT1804\n",
      "11EP22\n",
      "BT1743\n"
     ]
    }
   ],
   "source": [
    "anndata_list = []\n",
    "for sample in ad.obs['sample'].unique():\n",
    "    adata_copy_int = ad[ad.obs['sample'] == sample ]\n",
    "    adata_copy_int.obs.index = list(pd.DataFrame(list((adata_copy_int.obs['sample'])))[0] +'_' +pd.DataFrame(list((adata_copy_int.obs.index)))[0])\n",
    "    sq.gr.spatial_neighbors(adata_copy_int, coord_type = 'generic', radius = 70.0)\n",
    "    \n",
    "    if len(adata_copy_int.obs.groupby('Metaprogram').size()) == 2:\n",
    "        datf = pd.DataFrame(data = scipy.sparse.csr_matrix.todense((adata_copy_int.obsp['spatial_distances']>0)*1))\n",
    "        datf['key'] = list(adata_copy_int.obs['Metaprogram'])\n",
    "        neighmatrix = datf.groupby('key').sum().transpose()\n",
    "    else:\n",
    "        lb = LabelBinarizer(sparse_output=True)\n",
    "        grouped = lb.fit_transform(adata_copy_int.obs['Metaprogram'].to_numpy()).T.dot((adata_copy_int.obsp['spatial_distances']>0)*1)\n",
    "        neighmatrix = pd.DataFrame(data = scipy.sparse.csr_matrix.todense(grouped)).transpose()\n",
    "        neighmatrix.set_axis(sorted(adata_copy_int.obs['Metaprogram'].unique()), axis = \"columns\", copy = False)\n",
    "    \n",
    "    adataneigh = sc.AnnData(neighmatrix)\n",
    "    adataneigh.obs = adata_copy_int.obs\n",
    "    adataneigh.obs['counts'] = list(np.sum(neighmatrix,axis=1))\n",
    "    anndata_list.append(adataneigh)\n",
    "    print(sample)"
   ]
  },
  {
   "cell_type": "markdown",
   "id": "d3411c5b-6d56-4cdd-ae45-77f5617b531b",
   "metadata": {},
   "source": [
    "#### Compute centrality scores per sample"
   ]
  },
  {
   "cell_type": "code",
   "execution_count": 5,
   "id": "6f71c1c1-99a4-46bc-a8ba-9a35b41bb220",
   "metadata": {},
   "outputs": [
    {
     "name": "stdout",
     "output_type": "stream",
     "text": [
      "BT2126\n",
      "7EP41\n",
      "3EP8\n",
      "7EP1\n",
      "BT775\n",
      "BT2169\n",
      "BT1804\n",
      "11EP22\n",
      "BT1743\n"
     ]
    }
   ],
   "source": [
    "centralityScore_list = []\n",
    "for i in range(len(anndata_list)):\n",
    "    anndata_list[i].obsm[\"spatial\"] = np.array([anndata_list[i].obs.x_centroid*0.325, anndata_list[i].obs.y_centroid*0.325]).transpose().astype('float64')\n",
    "    anndata_list[i].X = np.nan_to_num(anndata_list[i].X)\n",
    "    anndata_list[i] = anndata_list[i][anndata_list[i].obs['counts'] > 6]\n",
    "    anndata_list[i].raw = anndata_list[i]\n",
    "    \n",
    "    sq.gr.spatial_neighbors(anndata_list[i], coord_type = \"generic\", delaunay = True)\n",
    "    sq.gr.centrality_scores(anndata_list[i], cluster_key = \"Metaprogram\")\n",
    "\n",
    "    dt = anndata_list[i].uns['Metaprogram_centrality_scores']\n",
    "    dt['Metaprogram'] = dt.index\n",
    "    dt['Sample'] = samples[i]\n",
    "    \n",
    "    centralityScore_list.append(dt)\n",
    "    print(samples[i])"
   ]
  },
  {
   "cell_type": "code",
   "execution_count": 6,
   "id": "12b0c699-5bee-4a17-b9ae-6bbaa4436a60",
   "metadata": {},
   "outputs": [
    {
     "data": {
      "image/png": "[encoded data removed]",
      "text/plain": [
       "<Figure size 640x480 with 1 Axes>"
      ]
     },
     "metadata": {},
     "output_type": "display_data"
    }
   ],
   "source": [
    "## Averaging metrics\n",
    "dt = pd.concat(centralityScore_list)\n",
    "dt = dt.groupby(['Metaprogram'], as_index=False).agg({'degree_centrality': 'mean', 'average_clustering': 'mean', 'closeness_centrality': 'mean'})\n",
    "\n",
    "## Scatter plot\n",
    "pt = sns.scatterplot(data=dt, x=\"average_clustering\", y=\"degree_centrality\", hue=\"Metaprogram\", \n",
    "                     palette=metaprogram_to_color, legend = True, s = 100)\n",
    "pt.set(xlabel = 'Clustering corfficient', ylabel = 'Degree of centrality')\n",
    "pt.legend(fontsize = 6)\n",
    "plt.show()"
   ]
  },
  {
   "cell_type": "code",
   "execution_count": null,
   "id": "daa73dbd-6d3e-47e0-b452-a0a289167b3a",
   "metadata": {},
   "outputs": [],
   "source": []
  },
  {
   "cell_type": "code",
   "execution_count": 31,
   "id": "3b48cadf-3d1e-46c3-b9da-55a481cfb7ef",
   "metadata": {},
   "outputs": [
    {
     "data": {
      "application/vnd.jupyter.widget-view+json": {
       "model_id": "eaa6e26d22c14ef3b3a206d4964b32aa",
       "version_major": 2,
       "version_minor": 0
      },
      "text/plain": [
       "  0%|          | 0/1000 [00:00<?, ?/s]"
      ]
     },
     "metadata": {},
     "output_type": "display_data"
    },
    {
     "data": {
      "application/vnd.jupyter.widget-view+json": {
       "model_id": "335fd761375443e4bcd38d5a85a8e437",
       "version_major": 2,
       "version_minor": 0
      },
      "text/plain": [
       "  0%|          | 0/1000 [00:00<?, ?/s]"
      ]
     },
     "metadata": {},
     "output_type": "display_data"
    },
    {
     "data": {
      "application/vnd.jupyter.widget-view+json": {
       "model_id": "df3af5a9ea9e4b12a6999d3469aebdf7",
       "version_major": 2,
       "version_minor": 0
      },
      "text/plain": [
       "  0%|          | 0/1000 [00:00<?, ?/s]"
      ]
     },
     "metadata": {},
     "output_type": "display_data"
    },
    {
     "data": {
      "application/vnd.jupyter.widget-view+json": {
       "model_id": "d46def039f7d4093a5a2245788e127f2",
       "version_major": 2,
       "version_minor": 0
      },
      "text/plain": [
       "  0%|          | 0/1000 [00:00<?, ?/s]"
      ]
     },
     "metadata": {},
     "output_type": "display_data"
    },
    {
     "data": {
      "application/vnd.jupyter.widget-view+json": {
       "model_id": "5a70d781267c43e491c311932031d5c6",
       "version_major": 2,
       "version_minor": 0
      },
      "text/plain": [
       "  0%|          | 0/1000 [00:00<?, ?/s]"
      ]
     },
     "metadata": {},
     "output_type": "display_data"
    },
    {
     "data": {
      "application/vnd.jupyter.widget-view+json": {
       "model_id": "6c1ccd52d2d24dcbbf214a9791f124c7",
       "version_major": 2,
       "version_minor": 0
      },
      "text/plain": [
       "  0%|          | 0/1000 [00:00<?, ?/s]"
      ]
     },
     "metadata": {},
     "output_type": "display_data"
    },
    {
     "data": {
      "application/vnd.jupyter.widget-view+json": {
       "model_id": "16c0fb30207c44cb86625c6a462fae76",
       "version_major": 2,
       "version_minor": 0
      },
      "text/plain": [
       "  0%|          | 0/1000 [00:00<?, ?/s]"
      ]
     },
     "metadata": {},
     "output_type": "display_data"
    },
    {
     "data": {
      "application/vnd.jupyter.widget-view+json": {
       "model_id": "e4963a698fd6401aa34e25902dd22c48",
       "version_major": 2,
       "version_minor": 0
      },
      "text/plain": [
       "  0%|          | 0/1000 [00:00<?, ?/s]"
      ]
     },
     "metadata": {},
     "output_type": "display_data"
    },
    {
     "data": {
      "application/vnd.jupyter.widget-view+json": {
       "model_id": "c07a8816f12940be92770f5545cc6907",
       "version_major": 2,
       "version_minor": 0
      },
      "text/plain": [
       "  0%|          | 0/1000 [00:00<?, ?/s]"
      ]
     },
     "metadata": {},
     "output_type": "display_data"
    }
   ],
   "source": [
    "nhood_list = []\n",
    "for i in range(len(anndata_list)):\n",
    "    sq.gr.nhood_enrichment(anndata_list[i], cluster_key = \"Metaprogram\", seed = 1234)\n",
    "    \n",
    "    df = pd.DataFrame(anndata_list[i].uns['Metaprogram_nhood_enrichment']['zscore'])\n",
    "    df.index = anndata_list[i].uns['Metaprogram_centrality_scores'].index\n",
    "    df.columns = anndata_list[i].uns['Metaprogram_centrality_scores'].index\n",
    "    df['Programs'] = anndata_list[i].uns['Metaprogram_centrality_scores'].index\n",
    "    df = pd.melt(df, id_vars='Programs')\n",
    "    \n",
    "    nhood_list.append(df)\n",
    "    #df_counts = pd.DataFrame(anndata_list[i].uns['Metaprogram_nhood_enrichment']['count'])"
   ]
  },
  {
   "cell_type": "code",
   "execution_count": 40,
   "id": "06b71afd-efe3-447e-88b2-bc0d92c2e28b",
   "metadata": {},
   "outputs": [],
   "source": [
    "## Averaging metrics\n",
    "dt = pd.concat(nhood_list)\n",
    "dt = dt.groupby(['Programs', 'variable'], as_index=False).agg({'value': 'mean'})\n",
    "dt = dt.pivot(index='Programs', columns='variable')['value']\n",
    "dt.to_csv('/n/scratch/users/c/cao385/test.csv')"
   ]
  }
 ],
 "metadata": {
  "kernelspec": {
   "display_name": "Python 3 (ipykernel)",
   "language": "python",
   "name": "python3"
  },
  "language_info": {
   "codemirror_mode": {
    "name": "ipython",
    "version": 3
   },
   "file_extension": ".py",
   "mimetype": "text/x-python",
   "name": "python",
   "nbconvert_exporter": "python",
   "pygments_lexer": "ipython3",
   "version": "3.9.14"
  }
 },
 "nbformat": 4,
 "nbformat_minor": 5
}
